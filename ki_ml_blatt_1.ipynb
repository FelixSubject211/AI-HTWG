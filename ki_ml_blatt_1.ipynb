{
  "cells": [
    {
      "cell_type": "markdown",
      "metadata": {
        "id": "PohCF88YwWgk"
      },
      "source": [
        "# Aufgaben Blatt 4 KI Machine Learning I\n",
        "\n"
      ]
    },
    {
      "cell_type": "markdown",
      "metadata": {
        "id": "r9sieFkrwWgm"
      },
      "source": [
        "## Aufgabe 1 (Lineare Regression)\n",
        "\n",
        "Bearbeiten Sie die Aufgabe https://github.com/oduerr/ki/blob/main/linear_regression/lr_gradient_descent.ipynb\n",
        "\n",
        "Versuchen Sie den Code zu verstehen und machen die kleineren Aufgaben, die in dem notebook besprochen werden."
      ]
    },
    {
      "cell_type": "markdown",
      "metadata": {
        "id": "hr2BSdsNwWgm"
      },
      "source": [
        "## Aufgabe 2 (Titanic)\n",
        "In dieser Aufgabe nehmen Sie an der Titanic Challenge (https://www.kaggle.com/c/titanic) teil. Sie können die Aufgabe am eigenen PC lösen oder direkt in Kaggle lösen. Die Daten liegen auch auf Moodle. "
      ]
    },
    {
      "cell_type": "markdown",
      "metadata": {
        "id": "f-_0tiX-wWgm"
      },
      "source": [
        "a) Lesen Sie die Trainingsdaten ein und teilen Sie sie in ein Validierungsdatenset (20%) und in ein eigentliches Trainigsdatenset (80%) auf. Finden Sie auf dem Trainigsdatenset eine Regel für das Überleben alleine aufgrund der Klasse des Tickets (Pclass). Wenden Sie diese Regel auf die Validierungsdaten an. Wie gut ist die Genauigkeit (Anteil der korrekten Klassifikationen) auf den Validierungsdaten?  "
      ]
    },
    {
      "cell_type": "code",
      "execution_count": 171,
      "metadata": {
        "id": "PGm0-jEawWgn",
        "trusted": true
      },
      "outputs": [],
      "source": [
        "# Hinweise zum Einlesen\n",
        "import pandas as pd # data processing, CSV file I/O (e.g. pd.read_csv)\n",
        "train_val = pd.read_csv('titanic/train.csv')\n",
        "\n",
        "# Hinweise zum Erzeugen einer Tabelle\n",
        "# pd.crosstab(...)\n",
        "\n",
        "# Hinweise um die Accuracy zu berechnen\n",
        "from sklearn.metrics import accuracy_score"
      ]
    },
    {
      "cell_type": "code",
      "execution_count": 172,
      "metadata": {
        "trusted": true
      },
      "outputs": [
        {
          "name": "stdout",
          "output_type": "stream",
          "text": [
            "Klasse 1: 115 von 176 überlebt (65.341%)\n",
            "Klasse 2:  69 von 143 überlebt (48.252%)\n",
            "Klasse 3: 100 von 393 überlebt (25.445%)\n"
          ]
        }
      ],
      "source": [
        "from sklearn.model_selection import train_test_split\n",
        "\n",
        "training_set, validation_set = train_test_split(train_val, test_size=0.2)\n",
        "\n",
        "## wer hat überlebt [amount, survived, ratio]\n",
        "classes = {\n",
        "    1: [0, 0, 0],\n",
        "    2: [0, 0, 0],\n",
        "    3: [0, 0, 0]\n",
        "}\n",
        "\n",
        "for person in training_set.itertuples(index=False):\n",
        "    p_class = person[2]\n",
        "    classes[p_class][0] += 1\n",
        "    classes[p_class][1] += person[1]\n",
        "\n",
        "for p_class, value in classes.items():\n",
        "    total = value[0]\n",
        "    survived = value[1]\n",
        "    ratio = survived / total if total != 0 else 0\n",
        "    classes[p_class][2] = ratio\n",
        "    print(f\"Klasse {p_class}: {survived: >3} von {total: >3} überlebt ({ratio * 100:.3f}%)\")\n",
        "\n",
        "\n"
      ]
    },
    {
      "cell_type": "code",
      "execution_count": 173,
      "metadata": {},
      "outputs": [
        {
          "name": "stdout",
          "output_type": "stream",
          "text": [
            "Vorhersagen: 99\n",
            "Genauigkeit: 0.553072625698324\n"
          ]
        }
      ],
      "source": [
        "## Vorhersage\n",
        "\n",
        "import random\n",
        "val_predictions = []\n",
        "for passenger in validation_set.itertuples(index=False):\n",
        "    predicted_survival = 1 if random.random() < classes[passenger[2]][2] else 0\n",
        "    val_predictions.append(predicted_survival)\n",
        "\n",
        "correct_predictions = validation_set['Survived'] == val_predictions\n",
        "print(f\"Vorhersagen: {sum(correct_predictions)}\")\n",
        "accuracy = sum(correct_predictions) / len(correct_predictions)\n",
        "print(\"Genauigkeit:\", accuracy)\n",
        "\n",
        "\n",
        "original_test_set = pd.read_csv(\"titanic/test.csv\")\n",
        "\n",
        "val_predictions = []\n",
        "for passenger in original_test_set.itertuples():\n",
        "    predicted_survival = 1 if random.random() < classes[passenger[2]][2] else 0\n",
        "    val_predictions.append(predicted_survival)\n",
        "\n",
        "output = pd.DataFrame({'PassengerId': original_test_set[\"PassengerId\"], 'Survived': val_predictions})\n",
        "output.to_csv('my_submission.csv', index=False)"
      ]
    },
    {
      "cell_type": "markdown",
      "metadata": {
        "id": "AAb6YDtTwWgn"
      },
      "source": [
        "b) Wenden Sie die Regel aus a) auf die Testdaten an und laden Sie Ihre Lösung hoch. "
      ]
    },
    {
      "cell_type": "code",
      "execution_count": 174,
      "metadata": {
        "trusted": true
      },
      "outputs": [],
      "source": [
        "# 0.56689 war das Ergebnis"
      ]
    },
    {
      "cell_type": "markdown",
      "metadata": {
        "id": "q0YqDhK3wWgp"
      },
      "source": [
        "c) Logistische Regression mit Pclass\n",
        "\n",
        "Trainieren Sie eine logistische Regression mit den Variablen 'Pclass'. Verwenden Sie die Klasse `sklearn.linear_model.LogisticRegression`. Berechnen Sie die Accuracy auf dem Validierungsset."
      ]
    },
    {
      "cell_type": "code",
      "execution_count": 175,
      "metadata": {
        "trusted": true
      },
      "outputs": [
        {
          "name": "stdout",
          "output_type": "stream",
          "text": [
            "Genauigkeit: 68.715%\n",
            "0.6871508379888268\n"
          ]
        },
        {
          "name": "stderr",
          "output_type": "stream",
          "text": [
            "c:\\Users\\jonas\\AppData\\Local\\Programs\\Python\\Python311\\Lib\\site-packages\\sklearn\\utils\\validation.py:1300: DataConversionWarning: A column-vector y was passed when a 1d array was expected. Please change the shape of y to (n_samples, ), for example using ravel().\n",
            "  y = column_or_1d(y, warn=True)\n"
          ]
        }
      ],
      "source": [
        "from sklearn.linear_model import LogisticRegression\n",
        "from sklearn.metrics import accuracy_score\n",
        "\n",
        "logReg = LogisticRegression()\n",
        "logReg.fit(training_set[[\"Pclass\"]], training_set[[\"Survived\"]])\n",
        "\n",
        "prediction = logReg.predict(validation_set[[\"Pclass\"]])\n",
        "\n",
        "accuracy = accuracy_score(validation_set[[\"Survived\"]], prediction)\n",
        "print(f\"Genauigkeit: {accuracy * 100:.3f}%\")\n",
        "\n",
        "print(logReg.score(validation_set[[\"Pclass\"]], validation_set[[\"Survived\"]]))"
      ]
    },
    {
      "cell_type": "markdown",
      "metadata": {
        "id": "p-xC04XswWgp"
      },
      "source": [
        "d) Coding / Feature engineering \n",
        "\n",
        "d.i) Missing Values:\n",
        "\n",
        "Verwenden Sie nun weitere Features. Die Variable Age enthält Missing values, die Sie durch folgenden code ersetzen können (was passiert da?)"
      ]
    },
    {
      "cell_type": "code",
      "execution_count": 176,
      "metadata": {
        "id": "6i9qi9ywwWgq"
      },
      "outputs": [
        {
          "name": "stderr",
          "output_type": "stream",
          "text": [
            "C:\\Users\\jonas\\AppData\\Local\\Temp\\ipykernel_15452\\2372068315.py:2: FutureWarning: A value is trying to be set on a copy of a DataFrame or Series through chained assignment using an inplace method.\n",
            "The behavior will change in pandas 3.0. This inplace method will never work because the intermediate object on which we are setting values always behaves as a copy.\n",
            "\n",
            "For example, when doing 'df[col].method(value, inplace=True)', try using 'df.method({col: value}, inplace=True)' or df[col] = df[col].method(value) instead, to perform the operation inplace on the original object.\n",
            "\n",
            "\n",
            "  training_set[\"Age\"].fillna(training_set[\"Age\"].median(skipna=True), inplace=True)\n"
          ]
        }
      ],
      "source": [
        "validation_set.fillna({\"Age\" :training_set[\"Age\"].median(skipna=True)}, inplace=True)\n",
        "training_set[\"Age\"].fillna(training_set[\"Age\"].median(skipna=True), inplace=True)"
      ]
    },
    {
      "cell_type": "markdown",
      "metadata": {},
      "source": [
        "The missing values of 'Age' are getting replaced by the median values of 'Age' from the training_set"
      ]
    },
    {
      "cell_type": "markdown",
      "metadata": {
        "id": "qxNwZco7wWgq"
      },
      "source": [
        "d.ii) Kategorische Variable\n",
        "\n",
        "Verwenden Sie die Funktion `pd.get_dummies` um die Variablen 'Pclass' and 'Sex' in numerische Werte umzuwandeln. Führen Sie nun eine logistische Regression durch."
      ]
    },
    {
      "cell_type": "code",
      "execution_count": 177,
      "metadata": {},
      "outputs": [
        {
          "name": "stdout",
          "output_type": "stream",
          "text": [
            "Genauigkeit des Modells: 76.92%\n"
          ]
        }
      ],
      "source": [
        "df = pd.get_dummies(training_set, columns=[\"Pclass\", \"Sex\"])\n",
        "\n",
        "logReg = LogisticRegression()\n",
        "X = df[['Pclass_1', 'Pclass_2', 'Pclass_3', 'Sex_male', 'Sex_female']]\n",
        "y = df['Survived']\n",
        "X_train, X_test, y_train, y_test = train_test_split(X, y, test_size=0.2, random_state=42)\n",
        "\n",
        "model = LogisticRegression()\n",
        "model.fit(X_train, y_train)\n",
        "\n",
        "y_pred = model.predict(X_test)\n",
        "\n",
        "accuracy = accuracy_score(y_test, y_pred)\n",
        "print(f'Genauigkeit des Modells: {accuracy*100:.2f}%')\n",
        "\n"
      ]
    },
    {
      "cell_type": "markdown",
      "metadata": {
        "id": "yu8UOcKAwWgq"
      },
      "source": [
        "e) Weitere Klassifikatoren. Neben der logistischen Regression, gibt es weitere Klassifikatoren. Der Random-Forest ist ein recht stabiler Klassifikator, was wäre die Performance von diesem Klassifikator."
      ]
    },
    {
      "cell_type": "code",
      "execution_count": 178,
      "metadata": {
        "id": "v0eRJVGSwWgr"
      },
      "outputs": [
        {
          "name": "stdout",
          "output_type": "stream",
          "text": [
            "Genauigkeit des Modells: 76.92%\n"
          ]
        }
      ],
      "source": [
        "from sklearn.ensemble import RandomForestClassifier\n",
        "rf = RandomForestClassifier()\n",
        "\n",
        "rf.fit(X_train, y_train)\n",
        "y_pred = rf.predict(X_test)\n",
        "\n",
        "accuracy = accuracy_score(y_test, y_pred)\n",
        "print(f'Genauigkeit des Modells: {accuracy*100:.2f}%')\n"
      ]
    },
    {
      "cell_type": "markdown",
      "metadata": {
        "id": "Oe_oIy11wWgr"
      },
      "source": [
        "f) [optional] Versuchen Sie weitere Features zu erzeugen und laden den besten Klassifikator auf Kaggle hoch. "
      ]
    },
    {
      "cell_type": "markdown",
      "metadata": {
        "id": "fc49pWuewWgr"
      },
      "source": [
        "## Aufgabe 3 Titanic mit Neuronalen Netzen \n",
        "\n",
        "Hinweis: Diese Aufgabe kann erst nach der dritten Vorlesung in ML gemacht werden.\n",
        "\n",
        "Mit den gleichen Daten, wie in der Aufgabe 2 d. Erstellen Sie ein fully connected neural network und fitten es an die Ttrainingsdaten. Verwenden Sie mindestens zwei hidden Layer. Plotten Sie den Verlauf der Loss Kurve für die Trainings- und Validierungsdaten. Optional: Laden Sie Ihre beste Lösung auf Kaggle hoch. "
      ]
    },
    {
      "cell_type": "code",
      "execution_count": 179,
      "metadata": {
        "id": "aYxfamTkwWgr",
        "outputId": "80a28e11-8256-4ab2-97ad-8f1d0ddda78e",
        "trusted": true
      },
      "outputs": [
        {
          "data": {
            "text/html": [
              "<pre style=\"white-space:pre;overflow-x:auto;line-height:normal;font-family:Menlo,'DejaVu Sans Mono',consolas,'Courier New',monospace\"><span style=\"font-weight: bold\">Model: \"sequential_1\"</span>\n",
              "</pre>\n"
            ],
            "text/plain": [
              "\u001b[1mModel: \"sequential_1\"\u001b[0m\n"
            ]
          },
          "metadata": {},
          "output_type": "display_data"
        },
        {
          "data": {
            "text/html": [
              "<pre style=\"white-space:pre;overflow-x:auto;line-height:normal;font-family:Menlo,'DejaVu Sans Mono',consolas,'Courier New',monospace\">┏━━━━━━━━━━━━━━━━━━━━━━━━━━━━━━━━━┳━━━━━━━━━━━━━━━━━━━━━━━━┳━━━━━━━━━━━━━━━┓\n",
              "┃<span style=\"font-weight: bold\"> Layer (type)                    </span>┃<span style=\"font-weight: bold\"> Output Shape           </span>┃<span style=\"font-weight: bold\">       Param # </span>┃\n",
              "┡━━━━━━━━━━━━━━━━━━━━━━━━━━━━━━━━━╇━━━━━━━━━━━━━━━━━━━━━━━━╇━━━━━━━━━━━━━━━┩\n",
              "│ dense_1 (<span style=\"color: #0087ff; text-decoration-color: #0087ff\">Dense</span>)                 │ ?                      │   <span style=\"color: #00af00; text-decoration-color: #00af00\">0</span> (unbuilt) │\n",
              "└─────────────────────────────────┴────────────────────────┴───────────────┘\n",
              "</pre>\n"
            ],
            "text/plain": [
              "┏━━━━━━━━━━━━━━━━━━━━━━━━━━━━━━━━━┳━━━━━━━━━━━━━━━━━━━━━━━━┳━━━━━━━━━━━━━━━┓\n",
              "┃\u001b[1m \u001b[0m\u001b[1mLayer (type)                   \u001b[0m\u001b[1m \u001b[0m┃\u001b[1m \u001b[0m\u001b[1mOutput Shape          \u001b[0m\u001b[1m \u001b[0m┃\u001b[1m \u001b[0m\u001b[1m      Param #\u001b[0m\u001b[1m \u001b[0m┃\n",
              "┡━━━━━━━━━━━━━━━━━━━━━━━━━━━━━━━━━╇━━━━━━━━━━━━━━━━━━━━━━━━╇━━━━━━━━━━━━━━━┩\n",
              "│ dense_1 (\u001b[38;5;33mDense\u001b[0m)                 │ ?                      │   \u001b[38;5;34m0\u001b[0m (unbuilt) │\n",
              "└─────────────────────────────────┴────────────────────────┴───────────────┘\n"
            ]
          },
          "metadata": {},
          "output_type": "display_data"
        },
        {
          "data": {
            "text/html": [
              "<pre style=\"white-space:pre;overflow-x:auto;line-height:normal;font-family:Menlo,'DejaVu Sans Mono',consolas,'Courier New',monospace\"><span style=\"font-weight: bold\"> Total params: </span><span style=\"color: #00af00; text-decoration-color: #00af00\">0</span> (0.00 B)\n",
              "</pre>\n"
            ],
            "text/plain": [
              "\u001b[1m Total params: \u001b[0m\u001b[38;5;34m0\u001b[0m (0.00 B)\n"
            ]
          },
          "metadata": {},
          "output_type": "display_data"
        },
        {
          "data": {
            "text/html": [
              "<pre style=\"white-space:pre;overflow-x:auto;line-height:normal;font-family:Menlo,'DejaVu Sans Mono',consolas,'Courier New',monospace\"><span style=\"font-weight: bold\"> Trainable params: </span><span style=\"color: #00af00; text-decoration-color: #00af00\">0</span> (0.00 B)\n",
              "</pre>\n"
            ],
            "text/plain": [
              "\u001b[1m Trainable params: \u001b[0m\u001b[38;5;34m0\u001b[0m (0.00 B)\n"
            ]
          },
          "metadata": {},
          "output_type": "display_data"
        },
        {
          "data": {
            "text/html": [
              "<pre style=\"white-space:pre;overflow-x:auto;line-height:normal;font-family:Menlo,'DejaVu Sans Mono',consolas,'Courier New',monospace\"><span style=\"font-weight: bold\"> Non-trainable params: </span><span style=\"color: #00af00; text-decoration-color: #00af00\">0</span> (0.00 B)\n",
              "</pre>\n"
            ],
            "text/plain": [
              "\u001b[1m Non-trainable params: \u001b[0m\u001b[38;5;34m0\u001b[0m (0.00 B)\n"
            ]
          },
          "metadata": {},
          "output_type": "display_data"
        }
      ],
      "source": [
        "#Sie können von folgendem Code starten um das Netzwerk zu definieren, füllen Sie die ...\n",
        "import tensorflow as tf\n",
        "import tensorflow.keras \n",
        "from tensorflow.keras.models import Sequential\n",
        "from tensorflow.keras.layers import Dense\n",
        "\n",
        "model = Sequential()\n",
        "model.add(Dense(..., activation='sigmoid', batch_input_shape=(None, 4))) #We have 4 input features\n",
        "#...\n",
        "model.add(Dense(1, activation='sigmoid'))\n",
        "opt = tf.keras.optimizers.Adam(learning_rate=1e-3)\n",
        "model.compile(loss=tf.keras.losses.BinaryCrossentropy(),\n",
        "              optimizer=opt,\n",
        "              metrics=['accuracy'])\n",
        "model.summary()"
      ]
    },
    {
      "cell_type": "code",
      "execution_count": null,
      "metadata": {
        "id": "9M8BQdo5wWgs"
      },
      "outputs": [
        {
          "name": "stdout",
          "output_type": "stream",
          "text": [
            "Epoch 1/150\n"
          ]
        },
        {
          "name": "stderr",
          "output_type": "stream",
          "text": [
            "/var/folders/lr/n_w7l2nn1klg5pbt8vrzdt7m0000gn/T/ipykernel_88745/186212899.py:7: FutureWarning: A value is trying to be set on a copy of a DataFrame or Series through chained assignment using an inplace method.\n",
            "The behavior will change in pandas 3.0. This inplace method will never work because the intermediate object on which we are setting values always behaves as a copy.\n",
            "\n",
            "For example, when doing 'df[col].method(value, inplace=True)', try using 'df.method({col: value}, inplace=True)' or df[col] = df[col].method(value) instead, to perform the operation inplace on the original object.\n",
            "\n",
            "\n",
            "  train_data[\"Age\"].fillna(train_data[\"Age\"].median(skipna=True), inplace=True)\n",
            "/Users/felixfischer/Library/Python/3.9/lib/python/site-packages/keras/src/layers/core/dense.py:87: UserWarning: Do not pass an `input_shape`/`input_dim` argument to a layer. When using Sequential models, prefer using an `Input(shape)` object as the first layer in the model instead.\n",
            "  super().__init__(activity_regularizer=activity_regularizer, **kwargs)\n"
          ]
        },
        {
          "name": "stdout",
          "output_type": "stream",
          "text": [
            "\u001b[1m15/15\u001b[0m \u001b[32m━━━━━━━━━━━━━━━━━━━━\u001b[0m\u001b[37m\u001b[0m \u001b[1m1s\u001b[0m 11ms/step - accuracy: 0.5471 - loss: 0.8487 - val_accuracy: 0.5866 - val_loss: 0.6775\n",
            "Epoch 2/150\n",
            "\u001b[1m15/15\u001b[0m \u001b[32m━━━━━━━━━━━━━━━━━━━━\u001b[0m\u001b[37m\u001b[0m \u001b[1m0s\u001b[0m 9ms/step - accuracy: 0.5091 - loss: 0.6867 - val_accuracy: 0.5866 - val_loss: 0.6733\n",
            "Epoch 3/150\n",
            "\u001b[1m15/15\u001b[0m \u001b[32m━━━━━━━━━━━━━━━━━━━━\u001b[0m\u001b[37m\u001b[0m \u001b[1m0s\u001b[0m 8ms/step - accuracy: 0.6229 - loss: 0.6669 - val_accuracy: 0.5866 - val_loss: 0.6727\n",
            "Epoch 4/150\n",
            "\u001b[1m15/15\u001b[0m \u001b[32m━━━━━━━━━━━━━━━━━━━━\u001b[0m\u001b[37m\u001b[0m \u001b[1m0s\u001b[0m 8ms/step - accuracy: 0.6255 - loss: 0.6581 - val_accuracy: 0.5866 - val_loss: 0.6659\n",
            "Epoch 5/150\n",
            "\u001b[1m15/15\u001b[0m \u001b[32m━━━━━━━━━━━━━━━━━━━━\u001b[0m\u001b[37m\u001b[0m \u001b[1m0s\u001b[0m 8ms/step - accuracy: 0.6174 - loss: 0.6722 - val_accuracy: 0.6145 - val_loss: 0.6591\n",
            "Epoch 6/150\n",
            "\u001b[1m15/15\u001b[0m \u001b[32m━━━━━━━━━━━━━━━━━━━━\u001b[0m\u001b[37m\u001b[0m \u001b[1m0s\u001b[0m 7ms/step - accuracy: 0.6214 - loss: 0.6657 - val_accuracy: 0.6034 - val_loss: 0.6514\n",
            "Epoch 7/150\n",
            "\u001b[1m15/15\u001b[0m \u001b[32m━━━━━━━━━━━━━━━━━━━━\u001b[0m\u001b[37m\u001b[0m \u001b[1m0s\u001b[0m 7ms/step - accuracy: 0.6462 - loss: 0.6464 - val_accuracy: 0.6257 - val_loss: 0.6347\n",
            "Epoch 8/150\n",
            "\u001b[1m15/15\u001b[0m \u001b[32m━━━━━━━━━━━━━━━━━━━━\u001b[0m\u001b[37m\u001b[0m \u001b[1m0s\u001b[0m 7ms/step - accuracy: 0.6482 - loss: 0.6316 - val_accuracy: 0.6145 - val_loss: 0.6105\n",
            "Epoch 9/150\n",
            "\u001b[1m15/15\u001b[0m \u001b[32m━━━━━━━━━━━━━━━━━━━━\u001b[0m\u001b[37m\u001b[0m \u001b[1m0s\u001b[0m 7ms/step - accuracy: 0.7033 - loss: 0.5883 - val_accuracy: 0.6257 - val_loss: 0.6012\n",
            "Epoch 10/150\n",
            "\u001b[1m15/15\u001b[0m \u001b[32m━━━━━━━━━━━━━━━━━━━━\u001b[0m\u001b[37m\u001b[0m \u001b[1m0s\u001b[0m 7ms/step - accuracy: 0.6908 - loss: 0.5773 - val_accuracy: 0.7877 - val_loss: 0.5117\n",
            "Epoch 11/150\n",
            "\u001b[1m15/15\u001b[0m \u001b[32m━━━━━━━━━━━━━━━━━━━━\u001b[0m\u001b[37m\u001b[0m \u001b[1m0s\u001b[0m 7ms/step - accuracy: 0.7816 - loss: 0.5228 - val_accuracy: 0.7765 - val_loss: 0.4832\n",
            "Epoch 12/150\n",
            "\u001b[1m15/15\u001b[0m \u001b[32m━━━━━━━━━━━━━━━━━━━━\u001b[0m\u001b[37m\u001b[0m \u001b[1m0s\u001b[0m 7ms/step - accuracy: 0.7916 - loss: 0.4976 - val_accuracy: 0.8045 - val_loss: 0.4693\n",
            "Epoch 13/150\n",
            "\u001b[1m15/15\u001b[0m \u001b[32m━━━━━━━━━━━━━━━━━━━━\u001b[0m\u001b[37m\u001b[0m \u001b[1m0s\u001b[0m 7ms/step - accuracy: 0.7799 - loss: 0.5023 - val_accuracy: 0.7933 - val_loss: 0.4582\n",
            "Epoch 14/150\n",
            "\u001b[1m15/15\u001b[0m \u001b[32m━━━━━━━━━━━━━━━━━━━━\u001b[0m\u001b[37m\u001b[0m \u001b[1m0s\u001b[0m 8ms/step - accuracy: 0.8002 - loss: 0.4710 - val_accuracy: 0.7933 - val_loss: 0.4456\n",
            "Epoch 15/150\n",
            "\u001b[1m15/15\u001b[0m \u001b[32m━━━━━━━━━━━━━━━━━━━━\u001b[0m\u001b[37m\u001b[0m \u001b[1m0s\u001b[0m 8ms/step - accuracy: 0.8116 - loss: 0.4630 - val_accuracy: 0.7709 - val_loss: 0.4895\n",
            "Epoch 16/150\n",
            "\u001b[1m15/15\u001b[0m \u001b[32m━━━━━━━━━━━━━━━━━━━━\u001b[0m\u001b[37m\u001b[0m \u001b[1m0s\u001b[0m 8ms/step - accuracy: 0.7777 - loss: 0.4823 - val_accuracy: 0.7933 - val_loss: 0.4493\n",
            "Epoch 17/150\n",
            "\u001b[1m15/15\u001b[0m \u001b[32m━━━━━━━━━━━━━━━━━━━━\u001b[0m\u001b[37m\u001b[0m \u001b[1m0s\u001b[0m 8ms/step - accuracy: 0.8236 - loss: 0.4459 - val_accuracy: 0.7877 - val_loss: 0.4496\n",
            "Epoch 18/150\n",
            "\u001b[1m15/15\u001b[0m \u001b[32m━━━━━━━━━━━━━━━━━━━━\u001b[0m\u001b[37m\u001b[0m \u001b[1m0s\u001b[0m 8ms/step - accuracy: 0.7782 - loss: 0.5113 - val_accuracy: 0.7933 - val_loss: 0.4426\n",
            "Epoch 19/150\n",
            "\u001b[1m15/15\u001b[0m \u001b[32m━━━━━━━━━━━━━━━━━━━━\u001b[0m\u001b[37m\u001b[0m \u001b[1m0s\u001b[0m 8ms/step - accuracy: 0.7899 - loss: 0.4689 - val_accuracy: 0.8045 - val_loss: 0.4485\n",
            "Epoch 20/150\n",
            "\u001b[1m15/15\u001b[0m \u001b[32m━━━━━━━━━━━━━━━━━━━━\u001b[0m\u001b[37m\u001b[0m \u001b[1m0s\u001b[0m 8ms/step - accuracy: 0.8097 - loss: 0.4931 - val_accuracy: 0.7933 - val_loss: 0.4645\n",
            "Epoch 21/150\n",
            "\u001b[1m15/15\u001b[0m \u001b[32m━━━━━━━━━━━━━━━━━━━━\u001b[0m\u001b[37m\u001b[0m \u001b[1m0s\u001b[0m 8ms/step - accuracy: 0.7821 - loss: 0.4850 - val_accuracy: 0.7933 - val_loss: 0.4439\n",
            "Epoch 22/150\n",
            "\u001b[1m15/15\u001b[0m \u001b[32m━━━━━━━━━━━━━━━━━━━━\u001b[0m\u001b[37m\u001b[0m \u001b[1m0s\u001b[0m 10ms/step - accuracy: 0.7838 - loss: 0.4803 - val_accuracy: 0.7821 - val_loss: 0.4814\n",
            "Epoch 23/150\n",
            "\u001b[1m15/15\u001b[0m \u001b[32m━━━━━━━━━━━━━━━━━━━━\u001b[0m\u001b[37m\u001b[0m \u001b[1m0s\u001b[0m 8ms/step - accuracy: 0.8007 - loss: 0.4857 - val_accuracy: 0.7933 - val_loss: 0.4732\n",
            "Epoch 24/150\n",
            "\u001b[1m15/15\u001b[0m \u001b[32m━━━━━━━━━━━━━━━━━━━━\u001b[0m\u001b[37m\u001b[0m \u001b[1m0s\u001b[0m 7ms/step - accuracy: 0.7791 - loss: 0.4842 - val_accuracy: 0.7989 - val_loss: 0.4590\n",
            "Epoch 25/150\n",
            "\u001b[1m15/15\u001b[0m \u001b[32m━━━━━━━━━━━━━━━━━━━━\u001b[0m\u001b[37m\u001b[0m \u001b[1m0s\u001b[0m 8ms/step - accuracy: 0.7971 - loss: 0.4665 - val_accuracy: 0.7821 - val_loss: 0.4444\n",
            "Epoch 26/150\n",
            "\u001b[1m15/15\u001b[0m \u001b[32m━━━━━━━━━━━━━━━━━━━━\u001b[0m\u001b[37m\u001b[0m \u001b[1m0s\u001b[0m 7ms/step - accuracy: 0.7840 - loss: 0.4625 - val_accuracy: 0.7933 - val_loss: 0.4343\n",
            "Epoch 27/150\n",
            "\u001b[1m15/15\u001b[0m \u001b[32m━━━━━━━━━━━━━━━━━━━━\u001b[0m\u001b[37m\u001b[0m \u001b[1m0s\u001b[0m 8ms/step - accuracy: 0.7836 - loss: 0.4699 - val_accuracy: 0.7933 - val_loss: 0.4376\n",
            "Epoch 28/150\n",
            "\u001b[1m15/15\u001b[0m \u001b[32m━━━━━━━━━━━━━━━━━━━━\u001b[0m\u001b[37m\u001b[0m \u001b[1m0s\u001b[0m 8ms/step - accuracy: 0.7720 - loss: 0.4787 - val_accuracy: 0.7877 - val_loss: 0.4412\n",
            "Epoch 29/150\n",
            "\u001b[1m15/15\u001b[0m \u001b[32m━━━━━━━━━━━━━━━━━━━━\u001b[0m\u001b[37m\u001b[0m \u001b[1m0s\u001b[0m 8ms/step - accuracy: 0.8074 - loss: 0.4379 - val_accuracy: 0.8045 - val_loss: 0.4426\n",
            "Epoch 30/150\n",
            "\u001b[1m15/15\u001b[0m \u001b[32m━━━━━━━━━━━━━━━━━━━━\u001b[0m\u001b[37m\u001b[0m \u001b[1m0s\u001b[0m 7ms/step - accuracy: 0.7915 - loss: 0.4508 - val_accuracy: 0.7933 - val_loss: 0.4379\n",
            "Epoch 31/150\n",
            "\u001b[1m15/15\u001b[0m \u001b[32m━━━━━━━━━━━━━━━━━━━━\u001b[0m\u001b[37m\u001b[0m \u001b[1m0s\u001b[0m 8ms/step - accuracy: 0.7563 - loss: 0.4893 - val_accuracy: 0.7933 - val_loss: 0.4366\n",
            "Epoch 32/150\n",
            "\u001b[1m15/15\u001b[0m \u001b[32m━━━━━━━━━━━━━━━━━━━━\u001b[0m\u001b[37m\u001b[0m \u001b[1m0s\u001b[0m 7ms/step - accuracy: 0.8016 - loss: 0.4401 - val_accuracy: 0.7933 - val_loss: 0.4344\n",
            "Epoch 33/150\n",
            "\u001b[1m15/15\u001b[0m \u001b[32m━━━━━━━━━━━━━━━━━━━━\u001b[0m\u001b[37m\u001b[0m \u001b[1m0s\u001b[0m 8ms/step - accuracy: 0.7999 - loss: 0.4435 - val_accuracy: 0.7933 - val_loss: 0.4351\n",
            "Epoch 34/150\n",
            "\u001b[1m15/15\u001b[0m \u001b[32m━━━━━━━━━━━━━━━━━━━━\u001b[0m\u001b[37m\u001b[0m \u001b[1m0s\u001b[0m 7ms/step - accuracy: 0.7936 - loss: 0.4620 - val_accuracy: 0.7654 - val_loss: 0.4426\n",
            "Epoch 35/150\n",
            "\u001b[1m15/15\u001b[0m \u001b[32m━━━━━━━━━━━━━━━━━━━━\u001b[0m\u001b[37m\u001b[0m \u001b[1m0s\u001b[0m 8ms/step - accuracy: 0.8095 - loss: 0.4756 - val_accuracy: 0.7933 - val_loss: 0.4406\n",
            "Epoch 36/150\n",
            "\u001b[1m15/15\u001b[0m \u001b[32m━━━━━━━━━━━━━━━━━━━━\u001b[0m\u001b[37m\u001b[0m \u001b[1m0s\u001b[0m 8ms/step - accuracy: 0.7972 - loss: 0.4624 - val_accuracy: 0.7877 - val_loss: 0.4387\n",
            "Epoch 37/150\n",
            "\u001b[1m15/15\u001b[0m \u001b[32m━━━━━━━━━━━━━━━━━━━━\u001b[0m\u001b[37m\u001b[0m \u001b[1m0s\u001b[0m 8ms/step - accuracy: 0.7976 - loss: 0.4770 - val_accuracy: 0.7933 - val_loss: 0.4388\n",
            "Epoch 38/150\n",
            "\u001b[1m15/15\u001b[0m \u001b[32m━━━━━━━━━━━━━━━━━━━━\u001b[0m\u001b[37m\u001b[0m \u001b[1m0s\u001b[0m 8ms/step - accuracy: 0.7836 - loss: 0.4582 - val_accuracy: 0.7709 - val_loss: 0.4722\n",
            "Epoch 39/150\n",
            "\u001b[1m15/15\u001b[0m \u001b[32m━━━━━━━━━━━━━━━━━━━━\u001b[0m\u001b[37m\u001b[0m \u001b[1m0s\u001b[0m 8ms/step - accuracy: 0.7649 - loss: 0.4773 - val_accuracy: 0.8101 - val_loss: 0.4564\n",
            "Epoch 40/150\n",
            "\u001b[1m15/15\u001b[0m \u001b[32m━━━━━━━━━━━━━━━━━━━━\u001b[0m\u001b[37m\u001b[0m \u001b[1m0s\u001b[0m 8ms/step - accuracy: 0.7957 - loss: 0.4630 - val_accuracy: 0.7933 - val_loss: 0.4321\n",
            "Epoch 41/150\n",
            "\u001b[1m15/15\u001b[0m \u001b[32m━━━━━━━━━━━━━━━━━━━━\u001b[0m\u001b[37m\u001b[0m \u001b[1m0s\u001b[0m 8ms/step - accuracy: 0.8081 - loss: 0.4438 - val_accuracy: 0.7877 - val_loss: 0.4365\n",
            "Epoch 42/150\n",
            "\u001b[1m15/15\u001b[0m \u001b[32m━━━━━━━━━━━━━━━━━━━━\u001b[0m\u001b[37m\u001b[0m \u001b[1m0s\u001b[0m 8ms/step - accuracy: 0.7839 - loss: 0.4510 - val_accuracy: 0.7877 - val_loss: 0.4346\n",
            "Epoch 43/150\n",
            "\u001b[1m15/15\u001b[0m \u001b[32m━━━━━━━━━━━━━━━━━━━━\u001b[0m\u001b[37m\u001b[0m \u001b[1m0s\u001b[0m 8ms/step - accuracy: 0.7995 - loss: 0.4343 - val_accuracy: 0.7765 - val_loss: 0.4355\n",
            "Epoch 44/150\n",
            "\u001b[1m15/15\u001b[0m \u001b[32m━━━━━━━━━━━━━━━━━━━━\u001b[0m\u001b[37m\u001b[0m \u001b[1m0s\u001b[0m 7ms/step - accuracy: 0.8014 - loss: 0.4397 - val_accuracy: 0.7933 - val_loss: 0.4360\n",
            "Epoch 45/150\n",
            "\u001b[1m15/15\u001b[0m \u001b[32m━━━━━━━━━━━━━━━━━━━━\u001b[0m\u001b[37m\u001b[0m \u001b[1m0s\u001b[0m 8ms/step - accuracy: 0.7937 - loss: 0.4493 - val_accuracy: 0.7933 - val_loss: 0.4274\n",
            "Epoch 46/150\n",
            "\u001b[1m15/15\u001b[0m \u001b[32m━━━━━━━━━━━━━━━━━━━━\u001b[0m\u001b[37m\u001b[0m \u001b[1m0s\u001b[0m 8ms/step - accuracy: 0.8124 - loss: 0.4121 - val_accuracy: 0.7933 - val_loss: 0.4306\n",
            "Epoch 47/150\n",
            "\u001b[1m15/15\u001b[0m \u001b[32m━━━━━━━━━━━━━━━━━━━━\u001b[0m\u001b[37m\u001b[0m \u001b[1m0s\u001b[0m 8ms/step - accuracy: 0.8216 - loss: 0.4212 - val_accuracy: 0.7877 - val_loss: 0.4303\n",
            "Epoch 48/150\n",
            "\u001b[1m15/15\u001b[0m \u001b[32m━━━━━━━━━━━━━━━━━━━━\u001b[0m\u001b[37m\u001b[0m \u001b[1m0s\u001b[0m 8ms/step - accuracy: 0.7691 - loss: 0.4743 - val_accuracy: 0.7765 - val_loss: 0.4363\n",
            "Epoch 49/150\n",
            "\u001b[1m15/15\u001b[0m \u001b[32m━━━━━━━━━━━━━━━━━━━━\u001b[0m\u001b[37m\u001b[0m \u001b[1m0s\u001b[0m 8ms/step - accuracy: 0.7975 - loss: 0.4698 - val_accuracy: 0.7877 - val_loss: 0.4483\n",
            "Epoch 50/150\n",
            "\u001b[1m15/15\u001b[0m \u001b[32m━━━━━━━━━━━━━━━━━━━━\u001b[0m\u001b[37m\u001b[0m \u001b[1m0s\u001b[0m 7ms/step - accuracy: 0.7920 - loss: 0.4652 - val_accuracy: 0.7933 - val_loss: 0.4491\n",
            "Epoch 51/150\n",
            "\u001b[1m15/15\u001b[0m \u001b[32m━━━━━━━━━━━━━━━━━━━━\u001b[0m\u001b[37m\u001b[0m \u001b[1m0s\u001b[0m 8ms/step - accuracy: 0.8047 - loss: 0.4477 - val_accuracy: 0.7877 - val_loss: 0.4486\n",
            "Epoch 52/150\n",
            "\u001b[1m15/15\u001b[0m \u001b[32m━━━━━━━━━━━━━━━━━━━━\u001b[0m\u001b[37m\u001b[0m \u001b[1m0s\u001b[0m 9ms/step - accuracy: 0.8187 - loss: 0.4151 - val_accuracy: 0.7933 - val_loss: 0.4379\n",
            "Epoch 53/150\n",
            "\u001b[1m15/15\u001b[0m \u001b[32m━━━━━━━━━━━━━━━━━━━━\u001b[0m\u001b[37m\u001b[0m \u001b[1m0s\u001b[0m 7ms/step - accuracy: 0.8017 - loss: 0.4211 - val_accuracy: 0.7877 - val_loss: 0.4384\n",
            "Epoch 54/150\n",
            "\u001b[1m15/15\u001b[0m \u001b[32m━━━━━━━━━━━━━━━━━━━━\u001b[0m\u001b[37m\u001b[0m \u001b[1m0s\u001b[0m 7ms/step - accuracy: 0.7844 - loss: 0.4251 - val_accuracy: 0.7877 - val_loss: 0.4289\n",
            "Epoch 55/150\n",
            "\u001b[1m15/15\u001b[0m \u001b[32m━━━━━━━━━━━━━━━━━━━━\u001b[0m\u001b[37m\u001b[0m \u001b[1m0s\u001b[0m 7ms/step - accuracy: 0.7945 - loss: 0.4412 - val_accuracy: 0.7933 - val_loss: 0.4326\n",
            "Epoch 56/150\n",
            "\u001b[1m15/15\u001b[0m \u001b[32m━━━━━━━━━━━━━━━━━━━━\u001b[0m\u001b[37m\u001b[0m \u001b[1m0s\u001b[0m 10ms/step - accuracy: 0.8105 - loss: 0.4216 - val_accuracy: 0.8101 - val_loss: 0.4673\n",
            "Epoch 57/150\n",
            "\u001b[1m15/15\u001b[0m \u001b[32m━━━━━━━━━━━━━━━━━━━━\u001b[0m\u001b[37m\u001b[0m \u001b[1m0s\u001b[0m 8ms/step - accuracy: 0.7881 - loss: 0.4425 - val_accuracy: 0.7765 - val_loss: 0.4331\n",
            "Epoch 58/150\n",
            "\u001b[1m15/15\u001b[0m \u001b[32m━━━━━━━━━━━━━━━━━━━━\u001b[0m\u001b[37m\u001b[0m \u001b[1m0s\u001b[0m 8ms/step - accuracy: 0.7699 - loss: 0.4465 - val_accuracy: 0.7877 - val_loss: 0.4620\n",
            "Epoch 59/150\n",
            "\u001b[1m15/15\u001b[0m \u001b[32m━━━━━━━━━━━━━━━━━━━━\u001b[0m\u001b[37m\u001b[0m \u001b[1m0s\u001b[0m 8ms/step - accuracy: 0.8099 - loss: 0.4211 - val_accuracy: 0.7877 - val_loss: 0.4387\n",
            "Epoch 60/150\n",
            "\u001b[1m15/15\u001b[0m \u001b[32m━━━━━━━━━━━━━━━━━━━━\u001b[0m\u001b[37m\u001b[0m \u001b[1m0s\u001b[0m 8ms/step - accuracy: 0.8189 - loss: 0.4178 - val_accuracy: 0.7877 - val_loss: 0.4456\n",
            "Epoch 61/150\n",
            "\u001b[1m15/15\u001b[0m \u001b[32m━━━━━━━━━━━━━━━━━━━━\u001b[0m\u001b[37m\u001b[0m \u001b[1m0s\u001b[0m 7ms/step - accuracy: 0.8195 - loss: 0.4183 - val_accuracy: 0.7877 - val_loss: 0.4337\n",
            "Epoch 62/150\n",
            "\u001b[1m15/15\u001b[0m \u001b[32m━━━━━━━━━━━━━━━━━━━━\u001b[0m\u001b[37m\u001b[0m \u001b[1m0s\u001b[0m 7ms/step - accuracy: 0.7843 - loss: 0.4497 - val_accuracy: 0.7877 - val_loss: 0.4444\n",
            "Epoch 63/150\n",
            "\u001b[1m15/15\u001b[0m \u001b[32m━━━━━━━━━━━━━━━━━━━━\u001b[0m\u001b[37m\u001b[0m \u001b[1m0s\u001b[0m 7ms/step - accuracy: 0.8087 - loss: 0.4338 - val_accuracy: 0.7877 - val_loss: 0.4482\n",
            "Epoch 64/150\n",
            "\u001b[1m15/15\u001b[0m \u001b[32m━━━━━━━━━━━━━━━━━━━━\u001b[0m\u001b[37m\u001b[0m \u001b[1m0s\u001b[0m 7ms/step - accuracy: 0.8077 - loss: 0.4319 - val_accuracy: 0.7765 - val_loss: 0.4554\n",
            "Epoch 65/150\n",
            "\u001b[1m15/15\u001b[0m \u001b[32m━━━━━━━━━━━━━━━━━━━━\u001b[0m\u001b[37m\u001b[0m \u001b[1m0s\u001b[0m 7ms/step - accuracy: 0.8102 - loss: 0.4350 - val_accuracy: 0.7877 - val_loss: 0.4368\n",
            "Epoch 66/150\n",
            "\u001b[1m15/15\u001b[0m \u001b[32m━━━━━━━━━━━━━━━━━━━━\u001b[0m\u001b[37m\u001b[0m \u001b[1m0s\u001b[0m 7ms/step - accuracy: 0.8276 - loss: 0.4209 - val_accuracy: 0.7933 - val_loss: 0.4312\n",
            "Epoch 67/150\n",
            "\u001b[1m15/15\u001b[0m \u001b[32m━━━━━━━━━━━━━━━━━━━━\u001b[0m\u001b[37m\u001b[0m \u001b[1m0s\u001b[0m 7ms/step - accuracy: 0.8099 - loss: 0.4423 - val_accuracy: 0.7765 - val_loss: 0.4415\n",
            "Epoch 68/150\n",
            "\u001b[1m15/15\u001b[0m \u001b[32m━━━━━━━━━━━━━━━━━━━━\u001b[0m\u001b[37m\u001b[0m \u001b[1m0s\u001b[0m 7ms/step - accuracy: 0.8246 - loss: 0.4110 - val_accuracy: 0.7933 - val_loss: 0.4458\n",
            "Epoch 69/150\n",
            "\u001b[1m15/15\u001b[0m \u001b[32m━━━━━━━━━━━━━━━━━━━━\u001b[0m\u001b[37m\u001b[0m \u001b[1m0s\u001b[0m 7ms/step - accuracy: 0.8008 - loss: 0.4267 - val_accuracy: 0.7877 - val_loss: 0.4345\n",
            "Epoch 70/150\n",
            "\u001b[1m15/15\u001b[0m \u001b[32m━━━━━━━━━━━━━━━━━━━━\u001b[0m\u001b[37m\u001b[0m \u001b[1m0s\u001b[0m 7ms/step - accuracy: 0.7953 - loss: 0.4247 - val_accuracy: 0.7877 - val_loss: 0.4532\n",
            "Epoch 71/150\n",
            "\u001b[1m15/15\u001b[0m \u001b[32m━━━━━━━━━━━━━━━━━━━━\u001b[0m\u001b[37m\u001b[0m \u001b[1m0s\u001b[0m 8ms/step - accuracy: 0.7936 - loss: 0.4588 - val_accuracy: 0.7877 - val_loss: 0.4440\n",
            "Epoch 72/150\n",
            "\u001b[1m15/15\u001b[0m \u001b[32m━━━━━━━━━━━━━━━━━━━━\u001b[0m\u001b[37m\u001b[0m \u001b[1m0s\u001b[0m 8ms/step - accuracy: 0.7840 - loss: 0.4613 - val_accuracy: 0.7877 - val_loss: 0.4329\n",
            "Epoch 73/150\n",
            "\u001b[1m15/15\u001b[0m \u001b[32m━━━━━━━━━━━━━━━━━━━━\u001b[0m\u001b[37m\u001b[0m \u001b[1m0s\u001b[0m 8ms/step - accuracy: 0.7575 - loss: 0.4803 - val_accuracy: 0.7765 - val_loss: 0.4537\n",
            "Epoch 74/150\n",
            "\u001b[1m15/15\u001b[0m \u001b[32m━━━━━━━━━━━━━━━━━━━━\u001b[0m\u001b[37m\u001b[0m \u001b[1m0s\u001b[0m 8ms/step - accuracy: 0.7928 - loss: 0.4823 - val_accuracy: 0.7877 - val_loss: 0.4373\n",
            "Epoch 75/150\n",
            "\u001b[1m15/15\u001b[0m \u001b[32m━━━━━━━━━━━━━━━━━━━━\u001b[0m\u001b[37m\u001b[0m \u001b[1m0s\u001b[0m 8ms/step - accuracy: 0.7761 - loss: 0.4586 - val_accuracy: 0.7765 - val_loss: 0.4293\n",
            "Epoch 76/150\n",
            "\u001b[1m15/15\u001b[0m \u001b[32m━━━━━━━━━━━━━━━━━━━━\u001b[0m\u001b[37m\u001b[0m \u001b[1m0s\u001b[0m 8ms/step - accuracy: 0.8100 - loss: 0.4218 - val_accuracy: 0.7709 - val_loss: 0.4396\n",
            "Epoch 77/150\n",
            "\u001b[1m15/15\u001b[0m \u001b[32m━━━━━━━━━━━━━━━━━━━━\u001b[0m\u001b[37m\u001b[0m \u001b[1m0s\u001b[0m 8ms/step - accuracy: 0.8021 - loss: 0.4206 - val_accuracy: 0.7877 - val_loss: 0.4389\n",
            "Epoch 78/150\n",
            "\u001b[1m15/15\u001b[0m \u001b[32m━━━━━━━━━━━━━━━━━━━━\u001b[0m\u001b[37m\u001b[0m \u001b[1m0s\u001b[0m 7ms/step - accuracy: 0.7893 - loss: 0.4301 - val_accuracy: 0.8045 - val_loss: 0.4638\n",
            "Epoch 79/150\n",
            "\u001b[1m15/15\u001b[0m \u001b[32m━━━━━━━━━━━━━━━━━━━━\u001b[0m\u001b[37m\u001b[0m \u001b[1m0s\u001b[0m 7ms/step - accuracy: 0.7997 - loss: 0.4391 - val_accuracy: 0.7933 - val_loss: 0.4493\n",
            "Epoch 80/150\n",
            "\u001b[1m15/15\u001b[0m \u001b[32m━━━━━━━━━━━━━━━━━━━━\u001b[0m\u001b[37m\u001b[0m \u001b[1m0s\u001b[0m 7ms/step - accuracy: 0.7960 - loss: 0.4285 - val_accuracy: 0.7877 - val_loss: 0.4377\n",
            "Epoch 81/150\n",
            "\u001b[1m15/15\u001b[0m \u001b[32m━━━━━━━━━━━━━━━━━━━━\u001b[0m\u001b[37m\u001b[0m \u001b[1m0s\u001b[0m 7ms/step - accuracy: 0.7915 - loss: 0.4648 - val_accuracy: 0.7709 - val_loss: 0.5038\n",
            "Epoch 82/150\n",
            "\u001b[1m15/15\u001b[0m \u001b[32m━━━━━━━━━━━━━━━━━━━━\u001b[0m\u001b[37m\u001b[0m \u001b[1m0s\u001b[0m 8ms/step - accuracy: 0.7859 - loss: 0.5007 - val_accuracy: 0.7877 - val_loss: 0.4386\n",
            "Epoch 83/150\n",
            "\u001b[1m15/15\u001b[0m \u001b[32m━━━━━━━━━━━━━━━━━━━━\u001b[0m\u001b[37m\u001b[0m \u001b[1m0s\u001b[0m 9ms/step - accuracy: 0.8219 - loss: 0.4536 - val_accuracy: 0.7933 - val_loss: 0.4621\n",
            "Epoch 84/150\n",
            "\u001b[1m15/15\u001b[0m \u001b[32m━━━━━━━━━━━━━━━━━━━━\u001b[0m\u001b[37m\u001b[0m \u001b[1m0s\u001b[0m 7ms/step - accuracy: 0.8054 - loss: 0.4270 - val_accuracy: 0.7933 - val_loss: 0.4406\n",
            "Epoch 85/150\n",
            "\u001b[1m15/15\u001b[0m \u001b[32m━━━━━━━━━━━━━━━━━━━━\u001b[0m\u001b[37m\u001b[0m \u001b[1m0s\u001b[0m 8ms/step - accuracy: 0.7842 - loss: 0.4600 - val_accuracy: 0.7430 - val_loss: 0.4462\n",
            "Epoch 86/150\n",
            "\u001b[1m15/15\u001b[0m \u001b[32m━━━━━━━━━━━━━━━━━━━━\u001b[0m\u001b[37m\u001b[0m \u001b[1m0s\u001b[0m 8ms/step - accuracy: 0.8018 - loss: 0.4308 - val_accuracy: 0.7765 - val_loss: 0.4437\n",
            "Epoch 87/150\n",
            "\u001b[1m15/15\u001b[0m \u001b[32m━━━━━━━━━━━━━━━━━━━━\u001b[0m\u001b[37m\u001b[0m \u001b[1m0s\u001b[0m 7ms/step - accuracy: 0.8243 - loss: 0.4187 - val_accuracy: 0.7877 - val_loss: 0.4468\n",
            "Epoch 88/150\n",
            "\u001b[1m15/15\u001b[0m \u001b[32m━━━━━━━━━━━━━━━━━━━━\u001b[0m\u001b[37m\u001b[0m \u001b[1m0s\u001b[0m 7ms/step - accuracy: 0.8009 - loss: 0.4330 - val_accuracy: 0.7765 - val_loss: 0.4353\n",
            "Epoch 89/150\n",
            "\u001b[1m15/15\u001b[0m \u001b[32m━━━━━━━━━━━━━━━━━━━━\u001b[0m\u001b[37m\u001b[0m \u001b[1m0s\u001b[0m 8ms/step - accuracy: 0.8135 - loss: 0.4238 - val_accuracy: 0.7877 - val_loss: 0.4404\n",
            "Epoch 90/150\n",
            "\u001b[1m15/15\u001b[0m \u001b[32m━━━━━━━━━━━━━━━━━━━━\u001b[0m\u001b[37m\u001b[0m \u001b[1m0s\u001b[0m 8ms/step - accuracy: 0.8201 - loss: 0.4040 - val_accuracy: 0.7765 - val_loss: 0.4314\n",
            "Epoch 91/150\n",
            "\u001b[1m15/15\u001b[0m \u001b[32m━━━━━━━━━━━━━━━━━━━━\u001b[0m\u001b[37m\u001b[0m \u001b[1m0s\u001b[0m 7ms/step - accuracy: 0.8126 - loss: 0.4189 - val_accuracy: 0.7877 - val_loss: 0.4408\n",
            "Epoch 92/150\n",
            "\u001b[1m15/15\u001b[0m \u001b[32m━━━━━━━━━━━━━━━━━━━━\u001b[0m\u001b[37m\u001b[0m \u001b[1m0s\u001b[0m 8ms/step - accuracy: 0.8114 - loss: 0.4281 - val_accuracy: 0.7709 - val_loss: 0.4349\n",
            "Epoch 93/150\n",
            "\u001b[1m15/15\u001b[0m \u001b[32m━━━━━━━━━━━━━━━━━━━━\u001b[0m\u001b[37m\u001b[0m \u001b[1m0s\u001b[0m 8ms/step - accuracy: 0.8073 - loss: 0.4316 - val_accuracy: 0.7877 - val_loss: 0.4366\n",
            "Epoch 94/150\n",
            "\u001b[1m15/15\u001b[0m \u001b[32m━━━━━━━━━━━━━━━━━━━━\u001b[0m\u001b[37m\u001b[0m \u001b[1m0s\u001b[0m 8ms/step - accuracy: 0.7981 - loss: 0.4539 - val_accuracy: 0.7821 - val_loss: 0.4411\n",
            "Epoch 95/150\n",
            "\u001b[1m15/15\u001b[0m \u001b[32m━━━━━━━━━━━━━━━━━━━━\u001b[0m\u001b[37m\u001b[0m \u001b[1m0s\u001b[0m 7ms/step - accuracy: 0.7764 - loss: 0.4569 - val_accuracy: 0.8101 - val_loss: 0.4674\n",
            "Epoch 96/150\n",
            "\u001b[1m15/15\u001b[0m \u001b[32m━━━━━━━━━━━━━━━━━━━━\u001b[0m\u001b[37m\u001b[0m \u001b[1m0s\u001b[0m 7ms/step - accuracy: 0.8053 - loss: 0.4221 - val_accuracy: 0.7765 - val_loss: 0.4325\n",
            "Epoch 97/150\n",
            "\u001b[1m15/15\u001b[0m \u001b[32m━━━━━━━━━━━━━━━━━━━━\u001b[0m\u001b[37m\u001b[0m \u001b[1m0s\u001b[0m 8ms/step - accuracy: 0.7783 - loss: 0.4254 - val_accuracy: 0.7765 - val_loss: 0.4397\n",
            "Epoch 98/150\n",
            "\u001b[1m15/15\u001b[0m \u001b[32m━━━━━━━━━━━━━━━━━━━━\u001b[0m\u001b[37m\u001b[0m \u001b[1m0s\u001b[0m 8ms/step - accuracy: 0.7890 - loss: 0.4458 - val_accuracy: 0.7821 - val_loss: 0.4385\n",
            "Epoch 99/150\n",
            "\u001b[1m15/15\u001b[0m \u001b[32m━━━━━━━━━━━━━━━━━━━━\u001b[0m\u001b[37m\u001b[0m \u001b[1m0s\u001b[0m 8ms/step - accuracy: 0.7894 - loss: 0.4589 - val_accuracy: 0.7877 - val_loss: 0.4412\n",
            "Epoch 100/150\n",
            "\u001b[1m15/15\u001b[0m \u001b[32m━━━━━━━━━━━━━━━━━━━━\u001b[0m\u001b[37m\u001b[0m \u001b[1m0s\u001b[0m 8ms/step - accuracy: 0.8037 - loss: 0.4402 - val_accuracy: 0.7821 - val_loss: 0.4374\n",
            "Epoch 101/150\n",
            "\u001b[1m15/15\u001b[0m \u001b[32m━━━━━━━━━━━━━━━━━━━━\u001b[0m\u001b[37m\u001b[0m \u001b[1m0s\u001b[0m 8ms/step - accuracy: 0.8016 - loss: 0.4486 - val_accuracy: 0.7877 - val_loss: 0.4391\n",
            "Epoch 102/150\n",
            "\u001b[1m15/15\u001b[0m \u001b[32m━━━━━━━━━━━━━━━━━━━━\u001b[0m\u001b[37m\u001b[0m \u001b[1m0s\u001b[0m 8ms/step - accuracy: 0.8086 - loss: 0.4202 - val_accuracy: 0.7877 - val_loss: 0.4297\n",
            "Epoch 103/150\n",
            "\u001b[1m15/15\u001b[0m \u001b[32m━━━━━━━━━━━━━━━━━━━━\u001b[0m\u001b[37m\u001b[0m \u001b[1m0s\u001b[0m 8ms/step - accuracy: 0.8105 - loss: 0.4194 - val_accuracy: 0.7821 - val_loss: 0.4330\n",
            "Epoch 104/150\n",
            "\u001b[1m15/15\u001b[0m \u001b[32m━━━━━━━━━━━━━━━━━━━━\u001b[0m\u001b[37m\u001b[0m \u001b[1m0s\u001b[0m 8ms/step - accuracy: 0.8005 - loss: 0.4421 - val_accuracy: 0.7877 - val_loss: 0.4484\n",
            "Epoch 105/150\n",
            "\u001b[1m15/15\u001b[0m \u001b[32m━━━━━━━━━━━━━━━━━━━━\u001b[0m\u001b[37m\u001b[0m \u001b[1m0s\u001b[0m 8ms/step - accuracy: 0.7985 - loss: 0.4417 - val_accuracy: 0.7877 - val_loss: 0.4572\n",
            "Epoch 106/150\n",
            "\u001b[1m15/15\u001b[0m \u001b[32m━━━━━━━━━━━━━━━━━━━━\u001b[0m\u001b[37m\u001b[0m \u001b[1m0s\u001b[0m 8ms/step - accuracy: 0.7945 - loss: 0.4325 - val_accuracy: 0.7765 - val_loss: 0.4334\n",
            "Epoch 107/150\n",
            "\u001b[1m15/15\u001b[0m \u001b[32m━━━━━━━━━━━━━━━━━━━━\u001b[0m\u001b[37m\u001b[0m \u001b[1m0s\u001b[0m 8ms/step - accuracy: 0.8051 - loss: 0.4181 - val_accuracy: 0.7709 - val_loss: 0.4398\n",
            "Epoch 108/150\n",
            "\u001b[1m15/15\u001b[0m \u001b[32m━━━━━━━━━━━━━━━━━━━━\u001b[0m\u001b[37m\u001b[0m \u001b[1m0s\u001b[0m 8ms/step - accuracy: 0.7699 - loss: 0.4904 - val_accuracy: 0.7821 - val_loss: 0.4325\n",
            "Epoch 109/150\n",
            "\u001b[1m15/15\u001b[0m \u001b[32m━━━━━━━━━━━━━━━━━━━━\u001b[0m\u001b[37m\u001b[0m \u001b[1m0s\u001b[0m 8ms/step - accuracy: 0.8184 - loss: 0.4179 - val_accuracy: 0.7654 - val_loss: 0.4405\n",
            "Epoch 110/150\n",
            "\u001b[1m15/15\u001b[0m \u001b[32m━━━━━━━━━━━━━━━━━━━━\u001b[0m\u001b[37m\u001b[0m \u001b[1m0s\u001b[0m 8ms/step - accuracy: 0.8017 - loss: 0.4209 - val_accuracy: 0.7877 - val_loss: 0.4562\n",
            "Epoch 111/150\n",
            "\u001b[1m15/15\u001b[0m \u001b[32m━━━━━━━━━━━━━━━━━━━━\u001b[0m\u001b[37m\u001b[0m \u001b[1m0s\u001b[0m 8ms/step - accuracy: 0.7835 - loss: 0.4599 - val_accuracy: 0.7877 - val_loss: 0.4428\n",
            "Epoch 112/150\n",
            "\u001b[1m15/15\u001b[0m \u001b[32m━━━━━━━━━━━━━━━━━━━━\u001b[0m\u001b[37m\u001b[0m \u001b[1m0s\u001b[0m 8ms/step - accuracy: 0.8248 - loss: 0.4193 - val_accuracy: 0.7877 - val_loss: 0.4422\n",
            "Epoch 113/150\n",
            "\u001b[1m15/15\u001b[0m \u001b[32m━━━━━━━━━━━━━━━━━━━━\u001b[0m\u001b[37m\u001b[0m \u001b[1m0s\u001b[0m 7ms/step - accuracy: 0.8068 - loss: 0.4476 - val_accuracy: 0.7821 - val_loss: 0.4363\n",
            "Epoch 114/150\n",
            "\u001b[1m15/15\u001b[0m \u001b[32m━━━━━━━━━━━━━━━━━━━━\u001b[0m\u001b[37m\u001b[0m \u001b[1m0s\u001b[0m 7ms/step - accuracy: 0.7996 - loss: 0.4202 - val_accuracy: 0.7877 - val_loss: 0.4553\n",
            "Epoch 115/150\n",
            "\u001b[1m15/15\u001b[0m \u001b[32m━━━━━━━━━━━━━━━━━━━━\u001b[0m\u001b[37m\u001b[0m \u001b[1m0s\u001b[0m 8ms/step - accuracy: 0.8055 - loss: 0.4381 - val_accuracy: 0.7933 - val_loss: 0.4624\n",
            "Epoch 116/150\n",
            "\u001b[1m15/15\u001b[0m \u001b[32m━━━━━━━━━━━━━━━━━━━━\u001b[0m\u001b[37m\u001b[0m \u001b[1m0s\u001b[0m 8ms/step - accuracy: 0.7950 - loss: 0.4369 - val_accuracy: 0.7765 - val_loss: 0.4387\n",
            "Epoch 117/150\n",
            "\u001b[1m15/15\u001b[0m \u001b[32m━━━━━━━━━━━━━━━━━━━━\u001b[0m\u001b[37m\u001b[0m \u001b[1m0s\u001b[0m 8ms/step - accuracy: 0.7995 - loss: 0.4361 - val_accuracy: 0.7709 - val_loss: 0.4449\n",
            "Epoch 118/150\n",
            "\u001b[1m15/15\u001b[0m \u001b[32m━━━━━━━━━━━━━━━━━━━━\u001b[0m\u001b[37m\u001b[0m \u001b[1m0s\u001b[0m 8ms/step - accuracy: 0.8016 - loss: 0.4279 - val_accuracy: 0.7709 - val_loss: 0.4719\n",
            "Epoch 119/150\n",
            "\u001b[1m15/15\u001b[0m \u001b[32m━━━━━━━━━━━━━━━━━━━━\u001b[0m\u001b[37m\u001b[0m \u001b[1m0s\u001b[0m 8ms/step - accuracy: 0.8261 - loss: 0.4046 - val_accuracy: 0.7709 - val_loss: 0.4689\n",
            "Epoch 120/150\n",
            "\u001b[1m15/15\u001b[0m \u001b[32m━━━━━━━━━━━━━━━━━━━━\u001b[0m\u001b[37m\u001b[0m \u001b[1m0s\u001b[0m 7ms/step - accuracy: 0.7851 - loss: 0.4829 - val_accuracy: 0.7709 - val_loss: 0.4459\n",
            "Epoch 121/150\n",
            "\u001b[1m15/15\u001b[0m \u001b[32m━━━━━━━━━━━━━━━━━━━━\u001b[0m\u001b[37m\u001b[0m \u001b[1m0s\u001b[0m 7ms/step - accuracy: 0.8120 - loss: 0.4262 - val_accuracy: 0.7821 - val_loss: 0.4354\n",
            "Epoch 122/150\n",
            "\u001b[1m15/15\u001b[0m \u001b[32m━━━━━━━━━━━━━━━━━━━━\u001b[0m\u001b[37m\u001b[0m \u001b[1m0s\u001b[0m 7ms/step - accuracy: 0.7867 - loss: 0.4371 - val_accuracy: 0.7765 - val_loss: 0.4359\n",
            "Epoch 123/150\n",
            "\u001b[1m15/15\u001b[0m \u001b[32m━━━━━━━━━━━━━━━━━━━━\u001b[0m\u001b[37m\u001b[0m \u001b[1m0s\u001b[0m 7ms/step - accuracy: 0.7865 - loss: 0.4359 - val_accuracy: 0.7877 - val_loss: 0.4349\n",
            "Epoch 124/150\n",
            "\u001b[1m15/15\u001b[0m \u001b[32m━━━━━━━━━━━━━━━━━━━━\u001b[0m\u001b[37m\u001b[0m \u001b[1m0s\u001b[0m 7ms/step - accuracy: 0.8123 - loss: 0.4259 - val_accuracy: 0.7765 - val_loss: 0.4404\n",
            "Epoch 125/150\n",
            "\u001b[1m15/15\u001b[0m \u001b[32m━━━━━━━━━━━━━━━━━━━━\u001b[0m\u001b[37m\u001b[0m \u001b[1m0s\u001b[0m 7ms/step - accuracy: 0.8152 - loss: 0.4219 - val_accuracy: 0.7877 - val_loss: 0.4659\n",
            "Epoch 126/150\n",
            "\u001b[1m15/15\u001b[0m \u001b[32m━━━━━━━━━━━━━━━━━━━━\u001b[0m\u001b[37m\u001b[0m \u001b[1m0s\u001b[0m 7ms/step - accuracy: 0.8148 - loss: 0.4236 - val_accuracy: 0.7877 - val_loss: 0.4479\n",
            "Epoch 127/150\n",
            "\u001b[1m15/15\u001b[0m \u001b[32m━━━━━━━━━━━━━━━━━━━━\u001b[0m\u001b[37m\u001b[0m \u001b[1m0s\u001b[0m 9ms/step - accuracy: 0.8005 - loss: 0.4354 - val_accuracy: 0.7821 - val_loss: 0.4424\n",
            "Epoch 128/150\n",
            "\u001b[1m15/15\u001b[0m \u001b[32m━━━━━━━━━━━━━━━━━━━━\u001b[0m\u001b[37m\u001b[0m \u001b[1m0s\u001b[0m 7ms/step - accuracy: 0.7978 - loss: 0.4329 - val_accuracy: 0.7933 - val_loss: 0.4383\n",
            "Epoch 129/150\n",
            "\u001b[1m15/15\u001b[0m \u001b[32m━━━━━━━━━━━━━━━━━━━━\u001b[0m\u001b[37m\u001b[0m \u001b[1m0s\u001b[0m 7ms/step - accuracy: 0.7980 - loss: 0.4471 - val_accuracy: 0.7877 - val_loss: 0.4406\n",
            "Epoch 130/150\n",
            "\u001b[1m15/15\u001b[0m \u001b[32m━━━━━━━━━━━━━━━━━━━━\u001b[0m\u001b[37m\u001b[0m \u001b[1m0s\u001b[0m 7ms/step - accuracy: 0.8085 - loss: 0.4241 - val_accuracy: 0.7765 - val_loss: 0.4486\n",
            "Epoch 131/150\n",
            "\u001b[1m15/15\u001b[0m \u001b[32m━━━━━━━━━━━━━━━━━━━━\u001b[0m\u001b[37m\u001b[0m \u001b[1m0s\u001b[0m 7ms/step - accuracy: 0.8070 - loss: 0.4282 - val_accuracy: 0.7709 - val_loss: 0.4486\n",
            "Epoch 132/150\n",
            "\u001b[1m15/15\u001b[0m \u001b[32m━━━━━━━━━━━━━━━━━━━━\u001b[0m\u001b[37m\u001b[0m \u001b[1m0s\u001b[0m 7ms/step - accuracy: 0.8095 - loss: 0.4363 - val_accuracy: 0.7765 - val_loss: 0.4437\n",
            "Epoch 133/150\n",
            "\u001b[1m15/15\u001b[0m \u001b[32m━━━━━━━━━━━━━━━━━━━━\u001b[0m\u001b[37m\u001b[0m \u001b[1m0s\u001b[0m 7ms/step - accuracy: 0.8014 - loss: 0.4287 - val_accuracy: 0.7709 - val_loss: 0.4511\n",
            "Epoch 134/150\n",
            "\u001b[1m15/15\u001b[0m \u001b[32m━━━━━━━━━━━━━━━━━━━━\u001b[0m\u001b[37m\u001b[0m \u001b[1m0s\u001b[0m 7ms/step - accuracy: 0.8015 - loss: 0.4548 - val_accuracy: 0.7877 - val_loss: 0.4271\n",
            "Epoch 135/150\n",
            "\u001b[1m15/15\u001b[0m \u001b[32m━━━━━━━━━━━━━━━━━━━━\u001b[0m\u001b[37m\u001b[0m \u001b[1m0s\u001b[0m 7ms/step - accuracy: 0.7884 - loss: 0.4341 - val_accuracy: 0.7765 - val_loss: 0.4421\n",
            "Epoch 136/150\n",
            "\u001b[1m15/15\u001b[0m \u001b[32m━━━━━━━━━━━━━━━━━━━━\u001b[0m\u001b[37m\u001b[0m \u001b[1m0s\u001b[0m 7ms/step - accuracy: 0.8142 - loss: 0.4109 - val_accuracy: 0.7598 - val_loss: 0.4404\n",
            "Epoch 137/150\n",
            "\u001b[1m15/15\u001b[0m \u001b[32m━━━━━━━━━━━━━━━━━━━━\u001b[0m\u001b[37m\u001b[0m \u001b[1m0s\u001b[0m 7ms/step - accuracy: 0.7939 - loss: 0.4411 - val_accuracy: 0.7765 - val_loss: 0.4352\n",
            "Epoch 138/150\n",
            "\u001b[1m15/15\u001b[0m \u001b[32m━━━━━━━━━━━━━━━━━━━━\u001b[0m\u001b[37m\u001b[0m \u001b[1m0s\u001b[0m 7ms/step - accuracy: 0.7909 - loss: 0.4464 - val_accuracy: 0.7709 - val_loss: 0.4438\n",
            "Epoch 139/150\n",
            "\u001b[1m15/15\u001b[0m \u001b[32m━━━━━━━━━━━━━━━━━━━━\u001b[0m\u001b[37m\u001b[0m \u001b[1m0s\u001b[0m 7ms/step - accuracy: 0.7994 - loss: 0.4257 - val_accuracy: 0.7709 - val_loss: 0.4528\n",
            "Epoch 140/150\n",
            "\u001b[1m15/15\u001b[0m \u001b[32m━━━━━━━━━━━━━━━━━━━━\u001b[0m\u001b[37m\u001b[0m \u001b[1m0s\u001b[0m 7ms/step - accuracy: 0.8198 - loss: 0.4176 - val_accuracy: 0.7821 - val_loss: 0.4386\n",
            "Epoch 141/150\n",
            "\u001b[1m15/15\u001b[0m \u001b[32m━━━━━━━━━━━━━━━━━━━━\u001b[0m\u001b[37m\u001b[0m \u001b[1m0s\u001b[0m 7ms/step - accuracy: 0.7968 - loss: 0.4504 - val_accuracy: 0.7709 - val_loss: 0.4485\n",
            "Epoch 142/150\n",
            "\u001b[1m15/15\u001b[0m \u001b[32m━━━━━━━━━━━━━━━━━━━━\u001b[0m\u001b[37m\u001b[0m \u001b[1m0s\u001b[0m 7ms/step - accuracy: 0.7959 - loss: 0.4385 - val_accuracy: 0.7709 - val_loss: 0.4500\n",
            "Epoch 143/150\n",
            "\u001b[1m15/15\u001b[0m \u001b[32m━━━━━━━━━━━━━━━━━━━━\u001b[0m\u001b[37m\u001b[0m \u001b[1m0s\u001b[0m 7ms/step - accuracy: 0.8266 - loss: 0.4196 - val_accuracy: 0.7933 - val_loss: 0.4361\n",
            "Epoch 144/150\n",
            "\u001b[1m15/15\u001b[0m \u001b[32m━━━━━━━━━━━━━━━━━━━━\u001b[0m\u001b[37m\u001b[0m \u001b[1m0s\u001b[0m 8ms/step - accuracy: 0.8367 - loss: 0.3964 - val_accuracy: 0.7877 - val_loss: 0.4543\n",
            "Epoch 145/150\n",
            "\u001b[1m15/15\u001b[0m \u001b[32m━━━━━━━━━━━━━━━━━━━━\u001b[0m\u001b[37m\u001b[0m \u001b[1m0s\u001b[0m 9ms/step - accuracy: 0.8039 - loss: 0.4453 - val_accuracy: 0.7933 - val_loss: 0.4333\n",
            "Epoch 146/150\n",
            "\u001b[1m15/15\u001b[0m \u001b[32m━━━━━━━━━━━━━━━━━━━━\u001b[0m\u001b[37m\u001b[0m \u001b[1m0s\u001b[0m 7ms/step - accuracy: 0.7948 - loss: 0.4212 - val_accuracy: 0.7709 - val_loss: 0.4403\n",
            "Epoch 147/150\n",
            "\u001b[1m15/15\u001b[0m \u001b[32m━━━━━━━━━━━━━━━━━━━━\u001b[0m\u001b[37m\u001b[0m \u001b[1m0s\u001b[0m 7ms/step - accuracy: 0.7975 - loss: 0.4405 - val_accuracy: 0.7821 - val_loss: 0.4363\n",
            "Epoch 148/150\n",
            "\u001b[1m15/15\u001b[0m \u001b[32m━━━━━━━━━━━━━━━━━━━━\u001b[0m\u001b[37m\u001b[0m \u001b[1m0s\u001b[0m 7ms/step - accuracy: 0.7783 - loss: 0.4372 - val_accuracy: 0.7933 - val_loss: 0.4412\n",
            "Epoch 149/150\n",
            "\u001b[1m15/15\u001b[0m \u001b[32m━━━━━━━━━━━━━━━━━━━━\u001b[0m\u001b[37m\u001b[0m \u001b[1m0s\u001b[0m 8ms/step - accuracy: 0.8009 - loss: 0.4244 - val_accuracy: 0.7933 - val_loss: 0.4450\n",
            "Epoch 150/150\n",
            "\u001b[1m15/15\u001b[0m \u001b[32m━━━━━━━━━━━━━━━━━━━━\u001b[0m\u001b[37m\u001b[0m \u001b[1m0s\u001b[0m 7ms/step - accuracy: 0.7985 - loss: 0.4493 - val_accuracy: 0.7821 - val_loss: 0.4370\n"
          ]
        },
        {
          "data": {
            "image/png": "[encoded data removed]",
            "text/plain": [
              "<Figure size 640x480 with 4 Axes>"
            ]
          },
          "metadata": {},
          "output_type": "display_data"
        }
      ],
      "source": [
        "import pandas as pd\n",
        "import numpy as np\n",
        "from sklearn.model_selection import train_test_split\n",
        "from tensorflow_history_plot import show_acc\n",
        "\n",
        "train_data = pd.read_csv(\"titanic/train.csv\")\n",
        "train_data[\"Age\"].fillna(train_data[\"Age\"].median(skipna=True), inplace=True) \n",
        "\n",
        "features = [\"Pclass\", \"Survived\", \"Sex\", \"Age\"]\n",
        "train_data = pd.get_dummies(train_data[features])\n",
        "\n",
        "X = train_data.drop('Survived', axis=1, inplace=False)\n",
        "y = train_data['Survived']\n",
        "\n",
        "X_train, X_val, y_train,y_val  = train_test_split(X, y, test_size=0.2, random_state=42)\n",
        "\n",
        "X_train = np.asarray(X_train).astype('float32')\n",
        "X_val = np.asarray(X_val).astype('float32')\n",
        "y_train = np.asarray(y_train).astype('float32')\n",
        "y_val = np.asarray(y_val).astype('float32')\n",
        "\n",
        "\n",
        "model = Sequential()\n",
        "model.add(Dense(800, activation='sigmoid',input_shape=(4,), name=\"Layer_1\"))\n",
        "model.add(Dense(800, activation='sigmoid', name=\"Layer_2\"))\n",
        "model.add(Dense(800, activation='sigmoid', name=\"Layer_3\"))\n",
        "model.add(Dense(1, activation='sigmoid', name=\"Layer_4\"))\n",
        "\n",
        "opt = tf.keras.optimizers.Adam(learning_rate=1e-3)\n",
        "\n",
        "model.compile(loss=tf.keras.losses.BinaryCrossentropy(),\n",
        "              optimizer=opt,\n",
        "              metrics=['accuracy'])\n",
        "\n",
        "# model.summary()\n",
        "\n",
        "\n",
        "history = model.fit(X_train, y_train,\n",
        "                    validation_data=(X_val, y_val),\n",
        "                    epochs=150,\n",
        "                    batch_size=50)\n",
        "\n",
        "show_acc.plot(history)"
      ]
    }
  ],
  "metadata": {
    "colab": {
      "name": "ki_ml_blatt_1.ipynb",
      "provenance": []
    },
    "kernelspec": {
      "display_name": "Python 3",
      "language": "python",
      "name": "python3"
    },
    "language_info": {
      "codemirror_mode": {
        "name": "ipython",
        "version": 3
      },
      "file_extension": ".py",
      "mimetype": "text/x-python",
      "name": "python",
      "nbconvert_exporter": "python",
      "pygments_lexer": "ipython3",
      "version": "3.11.1"
    }
  },
  "nbformat": 4,
  "nbformat_minor": 4
}
