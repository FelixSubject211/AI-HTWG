{
  "metadata": {
    "kernelspec": {
      "name": "python",
      "display_name": "Python (Pyodide)",
      "language": "python"
    },
    "language_info": {
      "codemirror_mode": {
        "name": "python",
        "version": 3
      },
      "file_extension": ".py",
      "mimetype": "text/x-python",
      "name": "python",
      "nbconvert_exporter": "python",
      "pygments_lexer": "ipython3",
      "version": "3.8"
    },
    "colab": {
      "name": "ki_ml_blatt_1.ipynb",
      "provenance": []
    }
  },
  "nbformat_minor": 4,
  "nbformat": 4,
  "cells": [
    {
      "cell_type": "markdown",
      "source": "# Aufgaben Blatt 4 KI Machine Learning I\n\n",
      "metadata": {
        "id": "PohCF88YwWgk"
      }
    },
    {
      "cell_type": "markdown",
      "source": "## Aufgabe 1 (Lineare Regression)\n\nBearbeiten Sie die Aufgabe https://github.com/oduerr/ki/blob/main/linear_regression/lr_gradient_descent.ipynb\n\nVersuchen Sie den Code zu verstehen und machen die kleineren Aufgaben, die in dem notebook besprochen werden.",
      "metadata": {
        "id": "r9sieFkrwWgm"
      }
    },
    {
      "cell_type": "markdown",
      "source": "## Aufgabe 2 (Titanic)\nIn dieser Aufgabe nehmen Sie an der Titanic Challenge (https://www.kaggle.com/c/titanic) teil. Sie können die Aufgabe am eigenen PC lösen oder direkt in Kaggle lösen. Die Daten liegen auch auf Moodle. ",
      "metadata": {
        "id": "hr2BSdsNwWgm"
      }
    },
    {
      "cell_type": "markdown",
      "source": "a) Lesen Sie die Trainingsdaten ein und teilen Sie sie in ein Validierungsdatenset (20%) und in ein eigentliches Trainigsdatenset (80%) auf. Finden Sie auf dem Trainigsdatenset eine Regel für das Überleben alleine aufgrund der Klasse des Tickets (Pclass). Wenden Sie diese Regel auf die Validierungsdaten an. Wie gut ist die Genauigkeit (Anteil der korrekten Klassifikationen) auf den Validierungsdaten?  ",
      "metadata": {
        "id": "f-_0tiX-wWgm"
      }
    },
    {
      "cell_type": "code",
      "source": "# Hinweise zum Einlesen\nimport pandas as pd # data processing, CSV file I/O (e.g. pd.read_csv)\ntrain_val = pd.read_csv('titanic/train.csv')\n\n# Hinweise zum Erzeugen einer Tabelle\n# pd.crosstab(...)\n\n# Hinweise um die Accuracy zu berechnen\nfrom sklearn.metrics import accuracy_score",
      "metadata": {
        "id": "PGm0-jEawWgn",
        "trusted": true
      },
      "outputs": [],
      "execution_count": 8
    },
    {
      "cell_type": "code",
      "source": "from sklearn.model_selection import train_test_split\n\ntraining_set, validation_set = train_test_split(train_val, test_size=0.2)\nprint(len(training_set))\nprint(len(validation_set))\n\n## wer hat überlebt\n\nclasses = {\n    1: (0, 0),\n    2: (0, 0),\n    3: (0, 0)\n}\n\nfor person in training_set.itertuples(index=False):\n    key = person[2]\n    current_tuple = classes[key]\n    updated_tuple = (current_tuple[0] + 1, current_tuple[1] + person[1])\n    classes[key] = updated_tuple\n\nfor key, value in classes.items():\n    total = value[0]\n    survived = value[1]\n    ratio = survived / total if total != 0 else 0\n    print(f\"Klasse {key}: Überlebende/Tot = {survived}/{total} Verhältnis = {ratio}\")\n\nclass_survival_rate = {}\n\nfor key, value in classes.items():\n    total = value[0]\n    survived = value[1]\n    ratio = survived / total if total != 0 else 0\n    class_survival_rate[key] = ratio\n\nprint(class_survival_rate)\n\n## Vorhersage\n\nimport random\nval_predictions = []\nfor passenger in validation_set.itertuples(index=False):\n    predicted_survival = 1 if random.random() < class_survival_rate[passenger[2]] else 0\n    val_predictions.append(predicted_survival)\n\ncorrect_predictions = validation_set['Survived'] == val_predictions\nprint(f\"Vorhersagen: {sum(correct_predictions)}\")\naccuracy = sum(correct_predictions) / len(correct_predictions)\nprint(\"Genauigkeit:\", accuracy)\n\n\nfrom pathlib import Path\n\noriginal_test_set = pd.read_csv(\"titanic/test.csv\")\n\nval_predictions = []\nfor passenger in original_test_set.itertuples():\n    predicted_survival = 1 if random.random() < class_survival_rate[passenger[2]] else 0\n    val_predictions.append(predicted_survival)\n\noutput = pd.DataFrame({'PassengerId': original_test_set[\"PassengerId\"], 'Survived': val_predictions})\noutput.to_csv('my_submission.csv', index=False)\n",
      "metadata": {
        "trusted": true
      },
      "outputs": [
        {
          "name": "stdout",
          "text": "712\n179\nKlasse 1: Überlebende/Tot = 105/168 Verhältnis = 0.625\nKlasse 2: Überlebende/Tot = 70/150 Verhältnis = 0.4666666666666667\nKlasse 3: Überlebende/Tot = 97/394 Verhältnis = 0.24619289340101522\n{1: 0.625, 2: 0.4666666666666667, 3: 0.24619289340101522}\nVorhersagen: 102\nGenauigkeit: 0.5698324022346368\n",
          "output_type": "stream"
        }
      ],
      "execution_count": 46
    },
    {
      "cell_type": "markdown",
      "source": "b) Wenden Sie die Regel aus a) auf die Testdaten an und laden Sie Ihre Lösung hoch. ",
      "metadata": {
        "id": "AAb6YDtTwWgn"
      }
    },
    {
      "cell_type": "code",
      "source": "0.56689 war das Ergebnis",
      "metadata": {
        "trusted": true
      },
      "outputs": [],
      "execution_count": null
    },
    {
      "cell_type": "markdown",
      "source": "c) Logistische Regression mit Pclass\n\nTrainieren Sie eine logistische Regression mit den Variablen 'Pclass'. Verwenden Sie die Klasse `sklearn.linear_model.LogisticRegression`. Berechnen Sie die Accuracy auf dem Validierungsset.",
      "metadata": {
        "id": "q0YqDhK3wWgp"
      }
    },
    {
      "cell_type": "code",
      "source": "from sklearn.linear_model import LogisticRegression\nfrom sklearn.metrics import accuracy_score\n\nlogReg = LogisticRegression()\nlogReg.fit(training_set[[\"Pclass\"]], training_set[[\"Survived\"]])\n\nprediction = logReg.predict(validation_set[[\"Pclass\"]])\n\naccuracy = accuracy_score(validation_set[[\"Survived\"]], prediction)\nprint(\"Genauigkeit:\", accuracy)\n\nprint(logReg.score(validation_set[[\"Pclass\"]], validation_set[[\"Survived\"]]))",
      "metadata": {
        "trusted": true
      },
      "outputs": [
        {
          "name": "stderr",
          "text": "/lib/python3.11/site-packages/sklearn/utils/validation.py:1183: DataConversionWarning: A column-vector y was passed when a 1d array was expected. Please change the shape of y to (n_samples, ), for example using ravel().\n  y = column_or_1d(y, warn=True)\n",
          "output_type": "stream"
        },
        {
          "name": "stdout",
          "text": "Genauigkeit: 0.6871508379888268\n0.6871508379888268\n",
          "output_type": "stream"
        }
      ],
      "execution_count": 50
    },
    {
      "cell_type": "markdown",
      "source": "d) Coding / Feature engineering \n\nd.i) Missing Values:\n\nVerwenden Sie nun weitere Features. Die Variable Age enthält Missing values, die Sie durch folgenden code ersetzen können (was passiert da?)",
      "metadata": {
        "id": "p-xC04XswWgp"
      }
    },
    {
      "cell_type": "code",
      "source": "val[\"Age\"].fillna(train[\"Age\"].median(skipna=True), inplace=True)\ntrain[\"Age\"].fillna(train[\"Age\"].median(skipna=True), inplace=True)",
      "metadata": {
        "id": "6i9qi9ywwWgq"
      },
      "outputs": [],
      "execution_count": null
    },
    {
      "cell_type": "markdown",
      "source": "d.ii) Kategorische Variable\n\nVerwenden Sie die Funktion `pd.get_dummies` um die Variablen 'Pclass' and 'Sex' in numerische Werte umzuwandeln. Führen Sie nun eine logistische Regression durch.",
      "metadata": {
        "id": "qxNwZco7wWgq"
      }
    },
    {
      "cell_type": "markdown",
      "source": "e) Weitere Klassifikatoren. Neben der logistischen Regression, gibt es weitere Klassifikatoren. Der Random-Forest ist ein recht stabiler Klassifikator, was wäre die Performance von diesem Klassifikator.",
      "metadata": {
        "id": "yu8UOcKAwWgq"
      }
    },
    {
      "cell_type": "code",
      "source": "# Hinweise zur Lösung\nfrom sklearn.ensemble import RandomForestClassifier\nrf = RandomForestClassifier()\n#rf hat nun gleiches interface, wie die logistische Regression",
      "metadata": {
        "id": "v0eRJVGSwWgr"
      },
      "outputs": [],
      "execution_count": null
    },
    {
      "cell_type": "markdown",
      "source": "f) [optional] Versuchen Sie weitere Features zu erzeugen und laden den besten Klassifikator auf Kaggle hoch. ",
      "metadata": {
        "id": "Oe_oIy11wWgr"
      }
    },
    {
      "cell_type": "markdown",
      "source": "## Aufgabe 3 Titanic mit Neuronalen Netzen \n\nHinweis: Diese Aufgabe kann erst nach der dritten Vorlesung in ML gemacht werden.\n\nMit den gleichen Daten, wie in der Aufgabe 2 d. Erstellen Sie ein fully connected neural network und fitten es an die Ttrainingsdaten. Verwenden Sie mindestens zwei hidden Layer. Plotten Sie den Verlauf der Loss Kurve für die Trainings- und Validierungsdaten. Optional: Laden Sie Ihre beste Lösung auf Kaggle hoch. ",
      "metadata": {
        "id": "fc49pWuewWgr"
      }
    },
    {
      "cell_type": "code",
      "source": "#Sie können von folgendem Code starten um das Netzwerk zu definieren, füllen Sie die ...\nimport tensorflow as tf\nimport tensorflow.keras \nfrom tensorflow.keras.models import Sequential\nfrom tensorflow.keras.layers import Dense\nmodel = Sequential()\nmodel.add(Dense(..., activation='sigmoid', batch_input_shape=(None, 4))) #We have 4 input features\n#...\nmodel.add(Dense(1, activation='sigmoid'))\nopt = tf.keras.optimizers.Adam(learning_rate=1e-3)\nmodel.compile(loss=tf.keras.losses.BinaryCrossentropy(),\n              optimizer=opt,\n              metrics=['accuracy'])\nmodel.summary()",
      "metadata": {
        "id": "aYxfamTkwWgr",
        "outputId": "80a28e11-8256-4ab2-97ad-8f1d0ddda78e",
        "trusted": true
      },
      "outputs": [
        {
          "ename": "<class 'ModuleNotFoundError'>",
          "evalue": "No module named 'tensorflow'",
          "traceback": [
            "\u001b[0;31m---------------------------------------------------------------------------\u001b[0m",
            "\u001b[0;31mModuleNotFoundError\u001b[0m                       Traceback (most recent call last)",
            "Cell \u001b[0;32mIn[49], line 2\u001b[0m\n\u001b[1;32m      1\u001b[0m \u001b[38;5;66;03m#Sie können von folgendem Code starten um das Netzwerk zu definieren, füllen Sie die ...\u001b[39;00m\n\u001b[0;32m----> 2\u001b[0m \u001b[38;5;28;01mimport\u001b[39;00m \u001b[38;5;21;01mtensorflow\u001b[39;00m \u001b[38;5;28;01mas\u001b[39;00m \u001b[38;5;21;01mtf\u001b[39;00m\n\u001b[1;32m      3\u001b[0m \u001b[38;5;28;01mimport\u001b[39;00m \u001b[38;5;21;01mtensorflow\u001b[39;00m\u001b[38;5;21;01m.\u001b[39;00m\u001b[38;5;21;01mkeras\u001b[39;00m \n\u001b[1;32m      4\u001b[0m \u001b[38;5;28;01mfrom\u001b[39;00m \u001b[38;5;21;01mtensorflow\u001b[39;00m\u001b[38;5;21;01m.\u001b[39;00m\u001b[38;5;21;01mkeras\u001b[39;00m\u001b[38;5;21;01m.\u001b[39;00m\u001b[38;5;21;01mmodels\u001b[39;00m \u001b[38;5;28;01mimport\u001b[39;00m Sequential\n",
            "\u001b[0;31mModuleNotFoundError\u001b[0m: No module named 'tensorflow'"
          ],
          "output_type": "error"
        }
      ],
      "execution_count": 49
    },
    {
      "cell_type": "code",
      "source": "",
      "metadata": {
        "id": "9M8BQdo5wWgs"
      },
      "outputs": [],
      "execution_count": null
    }
  ]
}